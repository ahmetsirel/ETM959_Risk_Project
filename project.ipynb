{
 "metadata": {
  "language_info": {
   "codemirror_mode": {
    "name": "ipython",
    "version": 3
   },
   "file_extension": ".py",
   "mimetype": "text/x-python",
   "name": "python",
   "nbconvert_exporter": "python",
   "pygments_lexer": "ipython3",
   "version": "3.8.3-final"
  },
  "orig_nbformat": 2,
  "kernelspec": {
   "name": "python3",
   "display_name": "Python 3",
   "language": "python"
  }
 },
 "nbformat": 4,
 "nbformat_minor": 2,
 "cells": [
  {
   "cell_type": "code",
   "execution_count": 64,
   "metadata": {},
   "outputs": [
    {
     "output_type": "stream",
     "name": "stdout",
     "text": [
      "Success\n"
     ]
    }
   ],
   "source": [
    "import pandas as pd\n",
    "import numpy as np\n",
    "import scipy.stats as stats\n",
    "import os\n",
    "\n",
    "path = os.path.join(os.getcwd(), \"data\")\n",
    "files = [file for file in os.listdir(path) if file.endswith(\"csv\")]\n",
    "\n",
    "data = pd.DataFrame()\n",
    "for file in files:\n",
    "    file_data = pd.read_csv(os.path.join(path,file))\n",
    "    file_data[\"Şirket\"] = file[: file.find(\" \")]\n",
    "    data = data.append(file_data)\n",
    "\n",
    "#Interst Rates\n",
    "interest_rates = pd.DataFrame([[\"13 09 2019\",\t16.50],\n",
    "                                [\"25 10 2019\",\t14.00],\n",
    "                                [\"13 12 2019\",\t12.00],\n",
    "                                [\"17 01 2020\",\t11.25],\n",
    "                                [\"20 02 2020\",\t10.75],\n",
    "                                [\"18 03 2020\",\t9.75],\n",
    "                                [\"23 04 2020\",\t8.75],\n",
    "                                [\"22 05 2020\",\t8.25],\n",
    "                                [\"25 09 2020\",\t10.25],\n",
    "                                [\"20 11 2020\",\t15.00]],\n",
    "                            columns=[\"date\", \"rate\"])\n",
    "interest_rates[\"date\"] = pd.to_datetime(interest_rates[\"date\"], dayfirst=True) \n",
    "interest_rates = interest_rates.set_index(\"date\")\n",
    "interest_rates = (interest_rates / 365) * 7 #convert to weekly interest\n",
    "interest_rates = interest_rates.sort_index(ascending=False)\n",
    "\n",
    "# Process Columns\n",
    "data[\"Tarih\"] = pd.to_datetime(data[\"Tarih\"], dayfirst=True)\n",
    "data[[\"Şimdi\", \"Açılış\", \"Yüksek\", \"Düşük\"]] = data[\n",
    "    [\"Şimdi\", \"Açılış\", \"Yüksek\", \"Düşük\"]\n",
    "].applymap(lambda x: round(float(str(x).replace(\",\", \".\")), 3))\n",
    "data[\"Fark %\"] = data[\"Fark %\"].apply(\n",
    "    lambda x: round(float(str(x).replace(\",\", \".\").replace(\"%\", \"\")) / 100, 3)\n",
    ")\n",
    "\n",
    "data = data[[\"Şirket\", \"Tarih\", \"Şimdi\", \"Açılış\", \"Yüksek\", \"Düşük\", \"Fark %\"]]\n",
    "\n",
    "# Calculate net return by substracting the weekly inflation rate from weekly return\n",
    "def get_interst(date_):\n",
    "    return interest_rates[interest_rates.index <=date_].head(1)[\"rate\"].values[0]\n",
    "data[\"net_return\"] = data.apply(lambda row: row[\"Fark %\"] - get_interst(row[\"Tarih\"]) ,axis=1)\n",
    "\n",
    "data = data.sort_values([\"Şirket\", \"Tarih\"])\n",
    "\n",
    "#Mean & Variance for weekly return\n",
    "data_agg = data.groupby(\"Şirket\").agg({\"Fark %\": [\"mean\", \"var\"]})\n",
    "data_agg.columns = data_agg.columns.get_level_values(1)\n",
    "mean_returns = data_agg[\"mean\"]\n",
    "\n",
    "#Mean & Variance for weekly net return\n",
    "data_agg_net = data.groupby(\"Şirket\").agg({\"net_return\": [\"mean\", \"var\"]})\n",
    "data_agg_net.columns = data_agg_net.columns.get_level_values(1)\n",
    "mean_net_returns = data_agg_net[\"mean\"]\n",
    "\n",
    "# Cov for weekly return\n",
    "cov_data = pd.DataFrame()\n",
    "for company in data[\"Şirket\"].unique():\n",
    "    current = data[data[\"Şirket\"] == company][\"Fark %\"].rename(company)\n",
    "    cov_data = pd.concat([cov_data, current], axis=1)\n",
    "cov = cov_data.cov()\n",
    "\n",
    "# Cov for weekly net return\n",
    "cov_data_net = pd.DataFrame()\n",
    "for company in data[\"Şirket\"].unique():\n",
    "    current = data[data[\"Şirket\"] == company][\"net_return\"].rename(company)\n",
    "    cov_data_net = pd.concat([cov_data_net, current], axis=1)\n",
    "cov_net = cov_data_net.cov()\n",
    "\n",
    "\"\"\"\n",
    "writer = pd.ExcelWriter(\"risk.xlsx\", engine=\"xlsxwriter\")\n",
    "data.to_excel(writer, sheet_name=\"Data\")\n",
    "data_agg.to_excel(writer, sheet_name=\"Data Agg\")\n",
    "cov_data.to_excel(writer, sheet_name=\"Cov Data\")\n",
    "cov.to_excel(writer, sheet_name=\"Covariance\")\n",
    "\n",
    "writer.save()\n",
    "\"\"\"\n",
    "print(\"Success\")\n"
   ]
  },
  {
   "cell_type": "code",
   "execution_count": 123,
   "metadata": {},
   "outputs": [],
   "source": []
  },
  {
   "cell_type": "code",
   "execution_count": 48,
   "metadata": {},
   "outputs": [
    {
     "output_type": "execute_result",
     "data": {
      "text/plain": [
       "AEFES   -0.020448\n",
       "AKBNK   -0.214452\n",
       "DEVA     1.795690\n",
       "DGKLB    0.531219\n",
       "ECILC    0.916592\n",
       "ENJSA    0.447360\n",
       "ENKAI    0.186614\n",
       "GOLTS    0.913725\n",
       "IHLGM    0.459129\n",
       "SISE     0.440644\n",
       "THYAO   -0.103348\n",
       "TTKOM    0.105694\n",
       "TTRAK    1.984149\n",
       "ULKER    0.010131\n",
       "VESTL    0.711300\n",
       "dtype: float64"
      ]
     },
     "metadata": {},
     "execution_count": 48
    }
   ],
   "source": [
    "def calculate_return(column):\n",
    "    return np.prod(column.apply(lambda x: x + 1)) - 1\n",
    "\n",
    "weekly_returns = cov_data.reset_index(drop=True)\n",
    "rate_of_total_returns = weekly_returns.apply(calculate_return)\n",
    "rate_of_total_returns"
   ]
  },
  {
   "cell_type": "code",
   "execution_count": 49,
   "metadata": {},
   "outputs": [],
   "source": [
    "data_agg[\"mean_for_p1\"] = data_agg[\"mean\"].apply(lambda x: max([x, 0]))\n",
    "data_agg[\"var_for_p2\"] =  data_agg[\"var\"].max() + data_agg[\"var\"].min() - data_agg[\"var\"]"
   ]
  },
  {
   "cell_type": "code",
   "execution_count": 50,
   "metadata": {},
   "outputs": [
    {
     "output_type": "stream",
     "name": "stdout",
     "text": [
      "Check weights 1.0000000000000002 1.0\n"
     ]
    }
   ],
   "source": [
    "data_agg['Portfolio1'] = data_agg[\"mean_for_p1\"] / data_agg[\"mean_for_p1\"].sum()\n",
    "data_agg['Portfolio2'] = data_agg[\"var_for_p2\"] / data_agg[\"var_for_p2\"].sum()\n",
    "\n",
    "p1_weights = data_agg['Portfolio1']\n",
    "p2_weights = data_agg['Portfolio2']\n",
    "\n",
    "print(\"Check weights\", p1_weights.sum(), p2_weights.sum())"
   ]
  },
  {
   "cell_type": "code",
   "execution_count": 51,
   "metadata": {},
   "outputs": [
    {
     "output_type": "execute_result",
     "data": {
      "text/plain": [
       "            mean       var  mean_for_p1  var_for_p2  Portfolio1  Portfolio2\n",
       "Şirket                                                                     \n",
       "ENKAI   0.004135  0.001673     0.004135    0.009104    0.028667    0.105195\n",
       "ENJSA   0.008019  0.001804     0.008019    0.008973    0.055600    0.103682\n",
       "SISE    0.008385  0.002660     0.008385    0.008118    0.058133    0.093794\n",
       "ULKER   0.001673  0.002933     0.001673    0.007845    0.011600    0.090638\n",
       "AEFES   0.001135  0.002998     0.001135    0.007780    0.007867    0.089890\n",
       "TTKOM   0.003731  0.003567     0.003731    0.007211    0.025867    0.083318\n",
       "AKBNK  -0.002769  0.003918     0.000000    0.006860    0.000000    0.079264\n",
       "THYAO   0.000115  0.004382     0.000115    0.006396    0.000800    0.073902\n",
       "VESTL   0.012788  0.004671     0.012788    0.006107    0.088667    0.070561\n",
       "TTRAK   0.023596  0.004733     0.023596    0.006045    0.163600    0.069848\n",
       "GOLTS   0.015673  0.006353     0.015673    0.004424    0.108667    0.051120\n",
       "IHLGM   0.011673  0.008453     0.011673    0.002325    0.080933    0.026862\n",
       "DGKLB   0.012962  0.008816     0.012962    0.001962    0.089867    0.022666\n",
       "ECILC   0.016327  0.009053     0.016327    0.001725    0.113200    0.019927\n",
       "DEVA    0.024019  0.009104     0.024019    0.001673    0.166533    0.019335"
      ],
      "text/html": "<div>\n<style scoped>\n    .dataframe tbody tr th:only-of-type {\n        vertical-align: middle;\n    }\n\n    .dataframe tbody tr th {\n        vertical-align: top;\n    }\n\n    .dataframe thead th {\n        text-align: right;\n    }\n</style>\n<table border=\"1\" class=\"dataframe\">\n  <thead>\n    <tr style=\"text-align: right;\">\n      <th></th>\n      <th>mean</th>\n      <th>var</th>\n      <th>mean_for_p1</th>\n      <th>var_for_p2</th>\n      <th>Portfolio1</th>\n      <th>Portfolio2</th>\n    </tr>\n    <tr>\n      <th>Şirket</th>\n      <th></th>\n      <th></th>\n      <th></th>\n      <th></th>\n      <th></th>\n      <th></th>\n    </tr>\n  </thead>\n  <tbody>\n    <tr>\n      <th>ENKAI</th>\n      <td>0.004135</td>\n      <td>0.001673</td>\n      <td>0.004135</td>\n      <td>0.009104</td>\n      <td>0.028667</td>\n      <td>0.105195</td>\n    </tr>\n    <tr>\n      <th>ENJSA</th>\n      <td>0.008019</td>\n      <td>0.001804</td>\n      <td>0.008019</td>\n      <td>0.008973</td>\n      <td>0.055600</td>\n      <td>0.103682</td>\n    </tr>\n    <tr>\n      <th>SISE</th>\n      <td>0.008385</td>\n      <td>0.002660</td>\n      <td>0.008385</td>\n      <td>0.008118</td>\n      <td>0.058133</td>\n      <td>0.093794</td>\n    </tr>\n    <tr>\n      <th>ULKER</th>\n      <td>0.001673</td>\n      <td>0.002933</td>\n      <td>0.001673</td>\n      <td>0.007845</td>\n      <td>0.011600</td>\n      <td>0.090638</td>\n    </tr>\n    <tr>\n      <th>AEFES</th>\n      <td>0.001135</td>\n      <td>0.002998</td>\n      <td>0.001135</td>\n      <td>0.007780</td>\n      <td>0.007867</td>\n      <td>0.089890</td>\n    </tr>\n    <tr>\n      <th>TTKOM</th>\n      <td>0.003731</td>\n      <td>0.003567</td>\n      <td>0.003731</td>\n      <td>0.007211</td>\n      <td>0.025867</td>\n      <td>0.083318</td>\n    </tr>\n    <tr>\n      <th>AKBNK</th>\n      <td>-0.002769</td>\n      <td>0.003918</td>\n      <td>0.000000</td>\n      <td>0.006860</td>\n      <td>0.000000</td>\n      <td>0.079264</td>\n    </tr>\n    <tr>\n      <th>THYAO</th>\n      <td>0.000115</td>\n      <td>0.004382</td>\n      <td>0.000115</td>\n      <td>0.006396</td>\n      <td>0.000800</td>\n      <td>0.073902</td>\n    </tr>\n    <tr>\n      <th>VESTL</th>\n      <td>0.012788</td>\n      <td>0.004671</td>\n      <td>0.012788</td>\n      <td>0.006107</td>\n      <td>0.088667</td>\n      <td>0.070561</td>\n    </tr>\n    <tr>\n      <th>TTRAK</th>\n      <td>0.023596</td>\n      <td>0.004733</td>\n      <td>0.023596</td>\n      <td>0.006045</td>\n      <td>0.163600</td>\n      <td>0.069848</td>\n    </tr>\n    <tr>\n      <th>GOLTS</th>\n      <td>0.015673</td>\n      <td>0.006353</td>\n      <td>0.015673</td>\n      <td>0.004424</td>\n      <td>0.108667</td>\n      <td>0.051120</td>\n    </tr>\n    <tr>\n      <th>IHLGM</th>\n      <td>0.011673</td>\n      <td>0.008453</td>\n      <td>0.011673</td>\n      <td>0.002325</td>\n      <td>0.080933</td>\n      <td>0.026862</td>\n    </tr>\n    <tr>\n      <th>DGKLB</th>\n      <td>0.012962</td>\n      <td>0.008816</td>\n      <td>0.012962</td>\n      <td>0.001962</td>\n      <td>0.089867</td>\n      <td>0.022666</td>\n    </tr>\n    <tr>\n      <th>ECILC</th>\n      <td>0.016327</td>\n      <td>0.009053</td>\n      <td>0.016327</td>\n      <td>0.001725</td>\n      <td>0.113200</td>\n      <td>0.019927</td>\n    </tr>\n    <tr>\n      <th>DEVA</th>\n      <td>0.024019</td>\n      <td>0.009104</td>\n      <td>0.024019</td>\n      <td>0.001673</td>\n      <td>0.166533</td>\n      <td>0.019335</td>\n    </tr>\n  </tbody>\n</table>\n</div>"
     },
     "metadata": {},
     "execution_count": 51
    }
   ],
   "source": [
    "data_agg.sort_values(\"var\")"
   ]
  },
  {
   "cell_type": "code",
   "execution_count": 52,
   "metadata": {},
   "outputs": [],
   "source": [
    "# multiply weights\n",
    "def mul_weight(row_column):\n",
    "    \n",
    "    return np.multiply(row_column, p1_weights)\n",
    "\n",
    "cov_p1 = cov.apply(mul_weight, axis=1).apply(mul_weight, axis=0)"
   ]
  },
  {
   "cell_type": "code",
   "execution_count": 53,
   "metadata": {},
   "outputs": [
    {
     "output_type": "execute_result",
     "data": {
      "text/plain": [
       "             Rate of Return of the portfolio (52w)  \\\n",
       "Portfolio 1                               1.033112   \n",
       "\n",
       "             Mean return of the portfolio (w)  Variance of the portfolio  \n",
       "Portfolio 1                          0.015832                   0.002735  "
      ],
      "text/html": "<div>\n<style scoped>\n    .dataframe tbody tr th:only-of-type {\n        vertical-align: middle;\n    }\n\n    .dataframe tbody tr th {\n        vertical-align: top;\n    }\n\n    .dataframe thead th {\n        text-align: right;\n    }\n</style>\n<table border=\"1\" class=\"dataframe\">\n  <thead>\n    <tr style=\"text-align: right;\">\n      <th></th>\n      <th>Rate of Return of the portfolio (52w)</th>\n      <th>Mean return of the portfolio (w)</th>\n      <th>Variance of the portfolio</th>\n    </tr>\n  </thead>\n  <tbody>\n    <tr>\n      <th>Portfolio 1</th>\n      <td>1.033112</td>\n      <td>0.015832</td>\n      <td>0.002735</td>\n    </tr>\n  </tbody>\n</table>\n</div>"
     },
     "metadata": {},
     "execution_count": 53
    }
   ],
   "source": [
    "p1_parameters = pd.DataFrame.from_dict({\"Rate of Return of the portfolio (52w)\": [np.matmul(rate_of_total_returns, p1_weights)],\n",
    "                                        \"Mean return of the portfolio (w)\": [np.matmul(p1_weights, mean_returns)],\n",
    "                                        \"Variance of the portfolio\": [cov_p1.sum().sum()]}).rename({0:\"Portfolio 1\"})\n",
    "p1_parameters"
   ]
  },
  {
   "cell_type": "code",
   "execution_count": 54,
   "metadata": {},
   "outputs": [],
   "source": [
    "# multiply weights\n",
    "def mul_weight2(row_column):\n",
    "    \n",
    "    return np.multiply(row_column, p2_weights)\n",
    "\n",
    "cov_p2 = cov.apply(mul_weight2, axis=1).apply(mul_weight2, axis=0)"
   ]
  },
  {
   "cell_type": "code",
   "execution_count": 55,
   "metadata": {},
   "outputs": [
    {
     "output_type": "execute_result",
     "data": {
      "text/plain": [
       "             Rate of Return of the portfolio (52w)  \\\n",
       "Portfolio 2                                0.40344   \n",
       "\n",
       "             Mean return of the portfolio (w)  Variance of the portfolio  \n",
       "Portfolio 2                          0.007155                   0.001751  "
      ],
      "text/html": "<div>\n<style scoped>\n    .dataframe tbody tr th:only-of-type {\n        vertical-align: middle;\n    }\n\n    .dataframe tbody tr th {\n        vertical-align: top;\n    }\n\n    .dataframe thead th {\n        text-align: right;\n    }\n</style>\n<table border=\"1\" class=\"dataframe\">\n  <thead>\n    <tr style=\"text-align: right;\">\n      <th></th>\n      <th>Rate of Return of the portfolio (52w)</th>\n      <th>Mean return of the portfolio (w)</th>\n      <th>Variance of the portfolio</th>\n    </tr>\n  </thead>\n  <tbody>\n    <tr>\n      <th>Portfolio 2</th>\n      <td>0.40344</td>\n      <td>0.007155</td>\n      <td>0.001751</td>\n    </tr>\n  </tbody>\n</table>\n</div>"
     },
     "metadata": {},
     "execution_count": 55
    }
   ],
   "source": [
    "\n",
    "p2_parameters = pd.DataFrame.from_dict({\"Rate of Return of the portfolio (52w)\": [np.matmul(rate_of_total_returns, p2_weights)],\n",
    "                                        \"Mean return of the portfolio (w)\": [np.matmul(p2_weights, mean_returns)],\n",
    "                                        \"Variance of the portfolio\": [cov_p2.sum().sum()]}).rename({0:\"Portfolio 2\"})\n",
    "p2_parameters"
   ]
  },
  {
   "cell_type": "code",
   "execution_count": 56,
   "metadata": {},
   "outputs": [],
   "source": [
    "portfolio_parameters = p1_parameters.append(p2_parameters)"
   ]
  },
  {
   "source": [
    "# 6.1"
   ],
   "cell_type": "markdown",
   "metadata": {}
  },
  {
   "cell_type": "code",
   "execution_count": 57,
   "metadata": {},
   "outputs": [
    {
     "output_type": "execute_result",
     "data": {
      "text/plain": [
       "             Rate of Return of the portfolio (52w)  \\\n",
       "Portfolio 1                               1.033112   \n",
       "Portfolio 2                               0.403440   \n",
       "\n",
       "             Mean return of the portfolio (w)  Variance of the portfolio  \n",
       "Portfolio 1                          0.015832                   0.002735  \n",
       "Portfolio 2                          0.007155                   0.001751  "
      ],
      "text/html": "<div>\n<style scoped>\n    .dataframe tbody tr th:only-of-type {\n        vertical-align: middle;\n    }\n\n    .dataframe tbody tr th {\n        vertical-align: top;\n    }\n\n    .dataframe thead th {\n        text-align: right;\n    }\n</style>\n<table border=\"1\" class=\"dataframe\">\n  <thead>\n    <tr style=\"text-align: right;\">\n      <th></th>\n      <th>Rate of Return of the portfolio (52w)</th>\n      <th>Mean return of the portfolio (w)</th>\n      <th>Variance of the portfolio</th>\n    </tr>\n  </thead>\n  <tbody>\n    <tr>\n      <th>Portfolio 1</th>\n      <td>1.033112</td>\n      <td>0.015832</td>\n      <td>0.002735</td>\n    </tr>\n    <tr>\n      <th>Portfolio 2</th>\n      <td>0.403440</td>\n      <td>0.007155</td>\n      <td>0.001751</td>\n    </tr>\n  </tbody>\n</table>\n</div>"
     },
     "metadata": {},
     "execution_count": 57
    }
   ],
   "source": [
    "portfolio_parameters"
   ]
  },
  {
   "cell_type": "code",
   "execution_count": 58,
   "metadata": {},
   "outputs": [],
   "source": [
    "portfolio_parameters[\"z-value\"] = ((0 - portfolio_parameters[\"Mean return of the portfolio (w)\"]) / \n",
    "portfolio_parameters[ \"Variance of the portfolio\"] )\n",
    "portfolio_parameters[\"p-value\"] = portfolio_parameters[\"z-value\"].apply(lambda z: stats.norm.sf(abs(z)))\n"
   ]
  },
  {
   "cell_type": "code",
   "execution_count": 59,
   "metadata": {},
   "outputs": [
    {
     "output_type": "execute_result",
     "data": {
      "text/plain": [
       "             Rate of Return of the portfolio (52w)  \\\n",
       "Portfolio 1                               1.033112   \n",
       "Portfolio 2                               0.403440   \n",
       "\n",
       "             Mean return of the portfolio (w)  Variance of the portfolio  \\\n",
       "Portfolio 1                          0.015832                   0.002735   \n",
       "Portfolio 2                          0.007155                   0.001751   \n",
       "\n",
       "              z-value       p-value  \n",
       "Portfolio 1 -5.788626  3.548233e-09  \n",
       "Portfolio 2 -4.087349  2.181654e-05  "
      ],
      "text/html": "<div>\n<style scoped>\n    .dataframe tbody tr th:only-of-type {\n        vertical-align: middle;\n    }\n\n    .dataframe tbody tr th {\n        vertical-align: top;\n    }\n\n    .dataframe thead th {\n        text-align: right;\n    }\n</style>\n<table border=\"1\" class=\"dataframe\">\n  <thead>\n    <tr style=\"text-align: right;\">\n      <th></th>\n      <th>Rate of Return of the portfolio (52w)</th>\n      <th>Mean return of the portfolio (w)</th>\n      <th>Variance of the portfolio</th>\n      <th>z-value</th>\n      <th>p-value</th>\n    </tr>\n  </thead>\n  <tbody>\n    <tr>\n      <th>Portfolio 1</th>\n      <td>1.033112</td>\n      <td>0.015832</td>\n      <td>0.002735</td>\n      <td>-5.788626</td>\n      <td>3.548233e-09</td>\n    </tr>\n    <tr>\n      <th>Portfolio 2</th>\n      <td>0.403440</td>\n      <td>0.007155</td>\n      <td>0.001751</td>\n      <td>-4.087349</td>\n      <td>2.181654e-05</td>\n    </tr>\n  </tbody>\n</table>\n</div>"
     },
     "metadata": {},
     "execution_count": 59
    }
   ],
   "source": [
    "portfolio_parameters"
   ]
  },
  {
   "cell_type": "code",
   "execution_count": 60,
   "metadata": {},
   "outputs": [
    {
     "output_type": "execute_result",
     "data": {
      "text/plain": [
       "                rate\n",
       "date                \n",
       "2020-11-20  0.287671\n",
       "2020-09-25  0.196575\n",
       "2020-05-22  0.158219\n",
       "2020-04-23  0.167808\n",
       "2020-03-18  0.186986\n",
       "2020-02-20  0.206164\n",
       "2020-01-17  0.215753\n",
       "2019-12-13  0.230137\n",
       "2019-10-25  0.268493\n",
       "2019-09-13  0.316438"
      ],
      "text/html": "<div>\n<style scoped>\n    .dataframe tbody tr th:only-of-type {\n        vertical-align: middle;\n    }\n\n    .dataframe tbody tr th {\n        vertical-align: top;\n    }\n\n    .dataframe thead th {\n        text-align: right;\n    }\n</style>\n<table border=\"1\" class=\"dataframe\">\n  <thead>\n    <tr style=\"text-align: right;\">\n      <th></th>\n      <th>rate</th>\n    </tr>\n    <tr>\n      <th>date</th>\n      <th></th>\n    </tr>\n  </thead>\n  <tbody>\n    <tr>\n      <th>2020-11-20</th>\n      <td>0.287671</td>\n    </tr>\n    <tr>\n      <th>2020-09-25</th>\n      <td>0.196575</td>\n    </tr>\n    <tr>\n      <th>2020-05-22</th>\n      <td>0.158219</td>\n    </tr>\n    <tr>\n      <th>2020-04-23</th>\n      <td>0.167808</td>\n    </tr>\n    <tr>\n      <th>2020-03-18</th>\n      <td>0.186986</td>\n    </tr>\n    <tr>\n      <th>2020-02-20</th>\n      <td>0.206164</td>\n    </tr>\n    <tr>\n      <th>2020-01-17</th>\n      <td>0.215753</td>\n    </tr>\n    <tr>\n      <th>2019-12-13</th>\n      <td>0.230137</td>\n    </tr>\n    <tr>\n      <th>2019-10-25</th>\n      <td>0.268493</td>\n    </tr>\n    <tr>\n      <th>2019-09-13</th>\n      <td>0.316438</td>\n    </tr>\n  </tbody>\n</table>\n</div>"
     },
     "metadata": {},
     "execution_count": 60
    }
   ],
   "source": [
    "\n",
    "interest_rates"
   ]
  },
  {
   "source": [
    "# 6.2"
   ],
   "cell_type": "markdown",
   "metadata": {}
  },
  {
   "cell_type": "code",
   "execution_count": null,
   "metadata": {},
   "outputs": [],
   "source": []
  }
 ]
}