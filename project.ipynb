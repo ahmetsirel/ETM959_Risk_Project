{
 "cells": [
  {
   "cell_type": "markdown",
   "metadata": {},
   "source": [
    "# Risk Assesment and Management\n",
    "- **Erdem Sirel**\n",
    "- **Gizem Yıldırım**"
   ]
  },
  {
   "cell_type": "markdown",
   "metadata": {},
   "source": [
    "# Import and process data"
   ]
  },
  {
   "cell_type": "code",
   "execution_count": 136,
   "metadata": {},
   "outputs": [
    {
     "data": {
      "text/html": [
       "<div>\n",
       "<style scoped>\n",
       "    .dataframe tbody tr th:only-of-type {\n",
       "        vertical-align: middle;\n",
       "    }\n",
       "\n",
       "    .dataframe tbody tr th {\n",
       "        vertical-align: top;\n",
       "    }\n",
       "\n",
       "    .dataframe thead th {\n",
       "        text-align: right;\n",
       "    }\n",
       "</style>\n",
       "<table border=\"1\" class=\"dataframe\">\n",
       "  <thead>\n",
       "    <tr style=\"text-align: right;\">\n",
       "      <th></th>\n",
       "      <th>Şirket</th>\n",
       "      <th>Tarih</th>\n",
       "      <th>Şimdi</th>\n",
       "      <th>return</th>\n",
       "      <th>inflation</th>\n",
       "      <th>net_return</th>\n",
       "    </tr>\n",
       "  </thead>\n",
       "  <tbody>\n",
       "    <tr>\n",
       "      <th>51</th>\n",
       "      <td>AEFES</td>\n",
       "      <td>2019-12-15</td>\n",
       "      <td>22.32</td>\n",
       "      <td>0.013</td>\n",
       "      <td>0.002301</td>\n",
       "      <td>0.010699</td>\n",
       "    </tr>\n",
       "    <tr>\n",
       "      <th>50</th>\n",
       "      <td>AEFES</td>\n",
       "      <td>2019-12-22</td>\n",
       "      <td>23.34</td>\n",
       "      <td>0.046</td>\n",
       "      <td>0.002301</td>\n",
       "      <td>0.043699</td>\n",
       "    </tr>\n",
       "    <tr>\n",
       "      <th>49</th>\n",
       "      <td>AEFES</td>\n",
       "      <td>2019-12-29</td>\n",
       "      <td>23.08</td>\n",
       "      <td>-0.011</td>\n",
       "      <td>0.002301</td>\n",
       "      <td>-0.013301</td>\n",
       "    </tr>\n",
       "    <tr>\n",
       "      <th>48</th>\n",
       "      <td>AEFES</td>\n",
       "      <td>2020-01-05</td>\n",
       "      <td>23.62</td>\n",
       "      <td>0.023</td>\n",
       "      <td>0.002301</td>\n",
       "      <td>0.020699</td>\n",
       "    </tr>\n",
       "    <tr>\n",
       "      <th>47</th>\n",
       "      <td>AEFES</td>\n",
       "      <td>2020-01-12</td>\n",
       "      <td>25.58</td>\n",
       "      <td>0.083</td>\n",
       "      <td>0.002301</td>\n",
       "      <td>0.080699</td>\n",
       "    </tr>\n",
       "  </tbody>\n",
       "</table>\n",
       "</div>"
      ],
      "text/plain": [
       "   Şirket      Tarih  Şimdi  return  inflation  net_return\n",
       "51  AEFES 2019-12-15  22.32   0.013   0.002301    0.010699\n",
       "50  AEFES 2019-12-22  23.34   0.046   0.002301    0.043699\n",
       "49  AEFES 2019-12-29  23.08  -0.011   0.002301   -0.013301\n",
       "48  AEFES 2020-01-05  23.62   0.023   0.002301    0.020699\n",
       "47  AEFES 2020-01-12  25.58   0.083   0.002301    0.080699"
      ]
     },
     "execution_count": 136,
     "metadata": {},
     "output_type": "execute_result"
    }
   ],
   "source": [
    "import pandas as pd\n",
    "import numpy as np\n",
    "import scipy.stats as stats\n",
    "import os\n",
    "\n",
    "\n",
    "def import_and_prepare_data():\n",
    "    path = os.path.join(os.getcwd(), \"data\")\n",
    "    files = [file for file in os.listdir(path) if file.endswith(\"csv\")]\n",
    "\n",
    "    data = pd.DataFrame()\n",
    "    for file in files:\n",
    "        file_data = pd.read_csv(os.path.join(path,file))\n",
    "        file_data[\"Şirket\"] = file[: file.find(\" \")]\n",
    "        data = data.append(file_data)\n",
    "    return data\n",
    "\n",
    "try:\n",
    "    data = pd.read_csv(\"https://raw.githubusercontent.com/ahmetsirel/ETM959_Risk_Project/master/data.csv\", sep=';')\n",
    "except:\n",
    "    data = import_and_prepare_data()\n",
    "    data.to_csv(\"data.csv\", sep=';', index=False)\n",
    "    print(\"data prepared from raw files\")\n",
    "    \n",
    "#Interst Rates\n",
    "interest_rates = pd.DataFrame([[\"13 09 2019\",\t16.50],\n",
    "                                [\"25 10 2019\",\t14.00],\n",
    "                                [\"13 12 2019\",\t12.00],\n",
    "                                [\"17 01 2020\",\t11.25],\n",
    "                                [\"20 02 2020\",\t10.75],\n",
    "                                [\"18 03 2020\",\t9.75],\n",
    "                                [\"23 04 2020\",\t8.75],\n",
    "                                [\"22 05 2020\",\t8.25],\n",
    "                                [\"25 09 2020\",\t10.25],\n",
    "                                [\"20 11 2020\",\t15.00]],\n",
    "                            columns=[\"date\", \"rate\"])\n",
    "interest_rates[\"date\"] = pd.to_datetime(interest_rates[\"date\"], dayfirst=True) \n",
    "interest_rates[\"rate\"] = interest_rates[\"rate\"] / 100\n",
    "interest_rates = interest_rates.set_index(\"date\")\n",
    "#TODO: Is this the right way to convert the annual interest to weekly interest for our case?\n",
    "interest_rates = (interest_rates / 365) * 7 #convert to weekly interest\n",
    "interest_rates = interest_rates.sort_index(ascending=False)\n",
    "\n",
    "# Process Columns\n",
    "data.rename({\"Fark %\": \"return\"}, axis=1, inplace=True)\n",
    "data[\"Tarih\"] = pd.to_datetime(data[\"Tarih\"], dayfirst=True)\n",
    "data[[\"Şimdi\", \"Açılış\", \"Yüksek\", \"Düşük\"]] = data[\n",
    "    [\"Şimdi\", \"Açılış\", \"Yüksek\", \"Düşük\"]\n",
    "].applymap(lambda x: round(float(str(x).replace(\",\", \".\")), 3))\n",
    "data[\"return\"] = data[\"return\"].apply(\n",
    "    lambda x: round(float(str(x).replace(\",\", \".\").replace(\"%\", \"\")) / 100, 3)\n",
    ")\n",
    "\n",
    "\n",
    "data = data[[\"Şirket\", \"Tarih\", \"Şimdi\", \"return\"]]\n",
    "\n",
    "# Calculate net return by substracting the weekly inflation rate from weekly return\n",
    "def get_interst(date_):\n",
    "    return interest_rates[interest_rates.index <=date_].head(1)[\"rate\"].values[0]\n",
    "data[\"inflation\"] = data.apply(lambda row: get_interst(row[\"Tarih\"]) ,axis=1)\n",
    "data[\"net_return\"] = data[\"return\"] - data[\"inflation\"]\n",
    "\n",
    "data = data.sort_values([\"Şirket\", \"Tarih\"])\n",
    "data.head()"
   ]
  },
  {
   "cell_type": "code",
   "execution_count": 137,
   "metadata": {},
   "outputs": [
    {
     "name": "stdout",
     "output_type": "stream",
     "text": [
      "1.0.5\n"
     ]
    }
   ],
   "source": [
    "print(pd.__version__)"
   ]
  },
  {
   "cell_type": "markdown",
   "metadata": {},
   "source": [
    "# Aggregate data\n",
    "- Calculate mean and variance for weekly return for each company.\n",
    "- Create covariance matrix for both return and net return"
   ]
  },
  {
   "cell_type": "code",
   "execution_count": 138,
   "metadata": {},
   "outputs": [
    {
     "name": "stdout",
     "output_type": "stream",
     "text": [
      "Success\n"
     ]
    }
   ],
   "source": [
    "#Mean & Variance for weekly return\n",
    "data_agg = data.groupby(\"Şirket\").agg({\"return\": [\"mean\", \"var\"]})\n",
    "data_agg.columns = data_agg.columns.get_level_values(1)\n",
    "mean_returns = data_agg[\"mean\"]\n",
    "\n",
    "#Mean & Variance for weekly net return\n",
    "data_agg_net = data.groupby(\"Şirket\").agg({\"net_return\": [\"mean\", \"var\"]})\n",
    "data_agg_net.columns = data_agg_net.columns.get_level_values(1)\n",
    "mean_net_returns = data_agg_net[\"mean\"]\n",
    "\n",
    "# Cov for weekly return\n",
    "cov_data = pd.DataFrame()\n",
    "for company in data[\"Şirket\"].unique():\n",
    "    current = data[data[\"Şirket\"] == company][\"return\"].rename(company).reset_index(drop=True)\n",
    "    cov_data = pd.concat([cov_data, current], axis=1)\n",
    "cov = cov_data.cov()\n",
    "\n",
    "# Cov for weekly net return\n",
    "cov_data_net = pd.DataFrame()\n",
    "for company in data[\"Şirket\"].unique():\n",
    "    current_ = data[data[\"Şirket\"] == company][\"net_return\"].rename(company).reset_index(drop=True)\n",
    "    cov_data_net = pd.concat([cov_data_net, current_], axis=1)\n",
    "cov_net = cov_data_net.cov()\n",
    "\n",
    "\"\"\"\n",
    "writer = pd.ExcelWriter(\"risk.xlsx\", engine=\"xlsxwriter\")\n",
    "data.to_excel(writer, sheet_name=\"Raw Data\")\n",
    "data_agg.to_excel(writer, sheet_name=\"Aggregated Data\")\n",
    "cov.to_excel(writer, sheet_name=\"Covariance Matrix for return\")\n",
    "cov_net.to_excel(writer, sheet_name=\"Cov. Matrix for net return\")\n",
    "\n",
    "writer.save()\"\"\"\n",
    "\n",
    "print(\"Success\")\n"
   ]
  },
  {
   "cell_type": "markdown",
   "metadata": {},
   "source": [
    "## Calculate 52 week return for each company\n",
    "$$r_{52w}=(\\prod_{week=1}^{52} (r_{week} + 1)) -1 $$"
   ]
  },
  {
   "cell_type": "markdown",
   "metadata": {},
   "source": [
    "#### Return"
   ]
  },
  {
   "cell_type": "code",
   "execution_count": 139,
   "metadata": {},
   "outputs": [
    {
     "data": {
      "text/plain": [
       "AEFES   -0.020448\n",
       "AKBNK   -0.214452\n",
       "DEVA     1.795690\n",
       "DGKLB    0.531219\n",
       "ECILC    0.916592\n",
       "ENJSA    0.447360\n",
       "ENKAI    0.186614\n",
       "GOLTS    0.913725\n",
       "IHLGM    0.459129\n",
       "SISE     0.440644\n",
       "THYAO   -0.103348\n",
       "TTKOM    0.105694\n",
       "TTRAK    1.984149\n",
       "ULKER    0.010131\n",
       "VESTL    0.711300\n",
       "dtype: float64"
      ]
     },
     "execution_count": 139,
     "metadata": {},
     "output_type": "execute_result"
    }
   ],
   "source": [
    "def calculate_return(column):\n",
    "    return np.prod(column.apply(lambda x: x + 1)) - 1\n",
    "\n",
    "weekly_returns = cov_data.reset_index(drop=True)\n",
    "rate_of_total_returns = weekly_returns.apply(calculate_return)\n",
    "rate_of_total_returns"
   ]
  },
  {
   "cell_type": "markdown",
   "metadata": {},
   "source": [
    "#### Net Return"
   ]
  },
  {
   "cell_type": "code",
   "execution_count": 140,
   "metadata": {},
   "outputs": [
    {
     "data": {
      "text/plain": [
       "AEFES   -0.113492\n",
       "AKBNK   -0.289360\n",
       "DEVA     1.534777\n",
       "DGKLB    0.386233\n",
       "ECILC    0.736484\n",
       "ENJSA    0.311097\n",
       "ENKAI    0.074330\n",
       "GOLTS    0.733974\n",
       "IHLGM    0.321144\n",
       "SISE     0.304739\n",
       "THYAO   -0.188680\n",
       "TTKOM    0.000933\n",
       "TTRAK    1.706085\n",
       "ULKER   -0.085710\n",
       "VESTL    0.550321\n",
       "dtype: float64"
      ]
     },
     "execution_count": 140,
     "metadata": {},
     "output_type": "execute_result"
    }
   ],
   "source": [
    "def calculate_return(column):\n",
    "    return np.prod(column.apply(lambda x: x + 1)) - 1\n",
    "\n",
    "weekly_returns_net = cov_data_net.reset_index(drop=True)\n",
    "rate_of_total_returns_net = weekly_returns_net.apply(calculate_return)\n",
    "rate_of_total_returns_net"
   ]
  },
  {
   "cell_type": "markdown",
   "metadata": {},
   "source": [
    "# Calculating the portfolio weights\n",
    "5.Form twoportfolios using different weights,   \n",
    "* one where weights increase proportional to decreasing standard deviations of individual assets and \n",
    "<blockquote>In order to reverse the variance we used the formula For example this formula will swap the highest and lowest mean in order to reverse the order. </blockquote>\n",
    "\\begin{equation*} \\ (var\\_for\\_p2) \\   VAR\\_reversed  = MAX(VAR) + MIN(VAR) - VAR \\end{equation*} \n",
    "* one where weights decrease as average returns decrease.  Calculate the means and variancesof both portfolios.\n",
    "<blockquote>For this one we had a negative mean return for AKBNK. We took its mean as zero in order to calculate proper weight for portfolio. (\"mean_for_p1\") </blockquote>\n"
   ]
  },
  {
   "cell_type": "code",
   "execution_count": 141,
   "metadata": {},
   "outputs": [
    {
     "data": {
      "text/html": [
       "<div>\n",
       "<style scoped>\n",
       "    .dataframe tbody tr th:only-of-type {\n",
       "        vertical-align: middle;\n",
       "    }\n",
       "\n",
       "    .dataframe tbody tr th {\n",
       "        vertical-align: top;\n",
       "    }\n",
       "\n",
       "    .dataframe thead th {\n",
       "        text-align: right;\n",
       "    }\n",
       "</style>\n",
       "<table border=\"1\" class=\"dataframe\">\n",
       "  <thead>\n",
       "    <tr style=\"text-align: right;\">\n",
       "      <th></th>\n",
       "      <th>mean</th>\n",
       "      <th>var</th>\n",
       "    </tr>\n",
       "    <tr>\n",
       "      <th>Şirket</th>\n",
       "      <th></th>\n",
       "      <th></th>\n",
       "    </tr>\n",
       "  </thead>\n",
       "  <tbody>\n",
       "    <tr>\n",
       "      <th>AEFES</th>\n",
       "      <td>0.001135</td>\n",
       "      <td>0.002998</td>\n",
       "    </tr>\n",
       "    <tr>\n",
       "      <th>AKBNK</th>\n",
       "      <td>-0.002769</td>\n",
       "      <td>0.003918</td>\n",
       "    </tr>\n",
       "    <tr>\n",
       "      <th>DEVA</th>\n",
       "      <td>0.024019</td>\n",
       "      <td>0.009104</td>\n",
       "    </tr>\n",
       "    <tr>\n",
       "      <th>DGKLB</th>\n",
       "      <td>0.012962</td>\n",
       "      <td>0.008816</td>\n",
       "    </tr>\n",
       "    <tr>\n",
       "      <th>ECILC</th>\n",
       "      <td>0.016327</td>\n",
       "      <td>0.009053</td>\n",
       "    </tr>\n",
       "    <tr>\n",
       "      <th>ENJSA</th>\n",
       "      <td>0.008019</td>\n",
       "      <td>0.001804</td>\n",
       "    </tr>\n",
       "    <tr>\n",
       "      <th>ENKAI</th>\n",
       "      <td>0.004135</td>\n",
       "      <td>0.001673</td>\n",
       "    </tr>\n",
       "    <tr>\n",
       "      <th>GOLTS</th>\n",
       "      <td>0.015673</td>\n",
       "      <td>0.006353</td>\n",
       "    </tr>\n",
       "    <tr>\n",
       "      <th>IHLGM</th>\n",
       "      <td>0.011673</td>\n",
       "      <td>0.008453</td>\n",
       "    </tr>\n",
       "    <tr>\n",
       "      <th>SISE</th>\n",
       "      <td>0.008385</td>\n",
       "      <td>0.002660</td>\n",
       "    </tr>\n",
       "    <tr>\n",
       "      <th>THYAO</th>\n",
       "      <td>0.000115</td>\n",
       "      <td>0.004382</td>\n",
       "    </tr>\n",
       "    <tr>\n",
       "      <th>TTKOM</th>\n",
       "      <td>0.003731</td>\n",
       "      <td>0.003567</td>\n",
       "    </tr>\n",
       "    <tr>\n",
       "      <th>TTRAK</th>\n",
       "      <td>0.023596</td>\n",
       "      <td>0.004733</td>\n",
       "    </tr>\n",
       "    <tr>\n",
       "      <th>ULKER</th>\n",
       "      <td>0.001673</td>\n",
       "      <td>0.002933</td>\n",
       "    </tr>\n",
       "    <tr>\n",
       "      <th>VESTL</th>\n",
       "      <td>0.012788</td>\n",
       "      <td>0.004671</td>\n",
       "    </tr>\n",
       "  </tbody>\n",
       "</table>\n",
       "</div>"
      ],
      "text/plain": [
       "            mean       var\n",
       "Şirket                    \n",
       "AEFES   0.001135  0.002998\n",
       "AKBNK  -0.002769  0.003918\n",
       "DEVA    0.024019  0.009104\n",
       "DGKLB   0.012962  0.008816\n",
       "ECILC   0.016327  0.009053\n",
       "ENJSA   0.008019  0.001804\n",
       "ENKAI   0.004135  0.001673\n",
       "GOLTS   0.015673  0.006353\n",
       "IHLGM   0.011673  0.008453\n",
       "SISE    0.008385  0.002660\n",
       "THYAO   0.000115  0.004382\n",
       "TTKOM   0.003731  0.003567\n",
       "TTRAK   0.023596  0.004733\n",
       "ULKER   0.001673  0.002933\n",
       "VESTL   0.012788  0.004671"
      ]
     },
     "execution_count": 141,
     "metadata": {},
     "output_type": "execute_result"
    }
   ],
   "source": [
    "data_agg"
   ]
  },
  {
   "cell_type": "code",
   "execution_count": 142,
   "metadata": {},
   "outputs": [],
   "source": [
    "data_agg[\"mean_for_p1\"] = data_agg[\"mean\"].apply(lambda x: max([x, 0]))\n",
    "data_agg[\"var_for_p2\"] =  data_agg[\"var\"].sum() / data_agg[\"var\"]"
   ]
  },
  {
   "cell_type": "code",
   "execution_count": 167,
   "metadata": {},
   "outputs": [
    {
     "name": "stdout",
     "output_type": "stream",
     "text": [
      "Check weights 1.0000000000000002 1.0\n"
     ]
    }
   ],
   "source": [
    "data_agg['Portfolio1'] = data_agg[\"mean_for_p1\"] / data_agg[\"mean_for_p1\"].sum()\n",
    "data_agg['Portfolio2'] =  data_agg[\"var_for_p2\"] / data_agg[\"var_for_p2\"].sum()\n",
    "\n",
    "p1_weights = data_agg['Portfolio1']\n",
    "p2_weights = data_agg['Portfolio2']\n",
    "\n",
    "print(\"Check weights\", p1_weights.sum(), p2_weights.sum())"
   ]
  },
  {
   "cell_type": "code",
   "execution_count": 144,
   "metadata": {},
   "outputs": [
    {
     "data": {
      "text/html": [
       "<div>\n",
       "<style scoped>\n",
       "    .dataframe tbody tr th:only-of-type {\n",
       "        vertical-align: middle;\n",
       "    }\n",
       "\n",
       "    .dataframe tbody tr th {\n",
       "        vertical-align: top;\n",
       "    }\n",
       "\n",
       "    .dataframe thead th {\n",
       "        text-align: right;\n",
       "    }\n",
       "</style>\n",
       "<table border=\"1\" class=\"dataframe\">\n",
       "  <thead>\n",
       "    <tr style=\"text-align: right;\">\n",
       "      <th></th>\n",
       "      <th>mean</th>\n",
       "      <th>var</th>\n",
       "      <th>mean_for_p1</th>\n",
       "      <th>var_for_p2</th>\n",
       "      <th>Portfolio1</th>\n",
       "      <th>Portfolio2</th>\n",
       "      <th>Portfolio3</th>\n",
       "    </tr>\n",
       "    <tr>\n",
       "      <th>Şirket</th>\n",
       "      <th></th>\n",
       "      <th></th>\n",
       "      <th></th>\n",
       "      <th></th>\n",
       "      <th></th>\n",
       "      <th></th>\n",
       "      <th></th>\n",
       "    </tr>\n",
       "  </thead>\n",
       "  <tbody>\n",
       "    <tr>\n",
       "      <th>ENKAI</th>\n",
       "      <td>0.004135</td>\n",
       "      <td>0.001673</td>\n",
       "      <td>0.004135</td>\n",
       "      <td>44.889828</td>\n",
       "      <td>0.028667</td>\n",
       "      <td>0.149364</td>\n",
       "      <td>0.022277</td>\n",
       "    </tr>\n",
       "    <tr>\n",
       "      <th>ENJSA</th>\n",
       "      <td>0.008019</td>\n",
       "      <td>0.001804</td>\n",
       "      <td>0.008019</td>\n",
       "      <td>41.631775</td>\n",
       "      <td>0.055600</td>\n",
       "      <td>0.138524</td>\n",
       "      <td>0.024020</td>\n",
       "    </tr>\n",
       "    <tr>\n",
       "      <th>SISE</th>\n",
       "      <td>0.008385</td>\n",
       "      <td>0.002660</td>\n",
       "      <td>0.008385</td>\n",
       "      <td>28.238994</td>\n",
       "      <td>0.058133</td>\n",
       "      <td>0.093961</td>\n",
       "      <td>0.035412</td>\n",
       "    </tr>\n",
       "    <tr>\n",
       "      <th>ULKER</th>\n",
       "      <td>0.001673</td>\n",
       "      <td>0.002933</td>\n",
       "      <td>0.001673</td>\n",
       "      <td>25.609604</td>\n",
       "      <td>0.011600</td>\n",
       "      <td>0.085212</td>\n",
       "      <td>0.039048</td>\n",
       "    </tr>\n",
       "    <tr>\n",
       "      <th>AEFES</th>\n",
       "      <td>0.001135</td>\n",
       "      <td>0.002998</td>\n",
       "      <td>0.001135</td>\n",
       "      <td>25.056106</td>\n",
       "      <td>0.007867</td>\n",
       "      <td>0.083371</td>\n",
       "      <td>0.039910</td>\n",
       "    </tr>\n",
       "    <tr>\n",
       "      <th>TTKOM</th>\n",
       "      <td>0.003731</td>\n",
       "      <td>0.003567</td>\n",
       "      <td>0.003731</td>\n",
       "      <td>21.060741</td>\n",
       "      <td>0.025867</td>\n",
       "      <td>0.070077</td>\n",
       "      <td>0.047482</td>\n",
       "    </tr>\n",
       "    <tr>\n",
       "      <th>AKBNK</th>\n",
       "      <td>-0.002769</td>\n",
       "      <td>0.003918</td>\n",
       "      <td>0.000000</td>\n",
       "      <td>19.174265</td>\n",
       "      <td>0.000000</td>\n",
       "      <td>0.063800</td>\n",
       "      <td>0.052153</td>\n",
       "    </tr>\n",
       "    <tr>\n",
       "      <th>THYAO</th>\n",
       "      <td>0.000115</td>\n",
       "      <td>0.004382</td>\n",
       "      <td>0.000115</td>\n",
       "      <td>17.143652</td>\n",
       "      <td>0.000800</td>\n",
       "      <td>0.057043</td>\n",
       "      <td>0.058331</td>\n",
       "    </tr>\n",
       "    <tr>\n",
       "      <th>VESTL</th>\n",
       "      <td>0.012788</td>\n",
       "      <td>0.004671</td>\n",
       "      <td>0.012788</td>\n",
       "      <td>16.082334</td>\n",
       "      <td>0.088667</td>\n",
       "      <td>0.053512</td>\n",
       "      <td>0.062180</td>\n",
       "    </tr>\n",
       "    <tr>\n",
       "      <th>TTRAK</th>\n",
       "      <td>0.023596</td>\n",
       "      <td>0.004733</td>\n",
       "      <td>0.023596</td>\n",
       "      <td>15.872590</td>\n",
       "      <td>0.163600</td>\n",
       "      <td>0.052814</td>\n",
       "      <td>0.063002</td>\n",
       "    </tr>\n",
       "    <tr>\n",
       "      <th>GOLTS</th>\n",
       "      <td>0.015673</td>\n",
       "      <td>0.006353</td>\n",
       "      <td>0.015673</td>\n",
       "      <td>11.823320</td>\n",
       "      <td>0.108667</td>\n",
       "      <td>0.039340</td>\n",
       "      <td>0.084579</td>\n",
       "    </tr>\n",
       "    <tr>\n",
       "      <th>IHLGM</th>\n",
       "      <td>0.011673</td>\n",
       "      <td>0.008453</td>\n",
       "      <td>0.011673</td>\n",
       "      <td>8.886725</td>\n",
       "      <td>0.080933</td>\n",
       "      <td>0.029569</td>\n",
       "      <td>0.112527</td>\n",
       "    </tr>\n",
       "    <tr>\n",
       "      <th>DGKLB</th>\n",
       "      <td>0.012962</td>\n",
       "      <td>0.008816</td>\n",
       "      <td>0.012962</td>\n",
       "      <td>8.520632</td>\n",
       "      <td>0.089867</td>\n",
       "      <td>0.028351</td>\n",
       "      <td>0.117362</td>\n",
       "    </tr>\n",
       "    <tr>\n",
       "      <th>ECILC</th>\n",
       "      <td>0.016327</td>\n",
       "      <td>0.009053</td>\n",
       "      <td>0.016327</td>\n",
       "      <td>8.297528</td>\n",
       "      <td>0.113200</td>\n",
       "      <td>0.027609</td>\n",
       "      <td>0.120518</td>\n",
       "    </tr>\n",
       "    <tr>\n",
       "      <th>DEVA</th>\n",
       "      <td>0.024019</td>\n",
       "      <td>0.009104</td>\n",
       "      <td>0.024019</td>\n",
       "      <td>8.250859</td>\n",
       "      <td>0.166533</td>\n",
       "      <td>0.027454</td>\n",
       "      <td>0.121199</td>\n",
       "    </tr>\n",
       "  </tbody>\n",
       "</table>\n",
       "</div>"
      ],
      "text/plain": [
       "            mean       var  mean_for_p1  var_for_p2  Portfolio1  Portfolio2  \\\n",
       "Şirket                                                                        \n",
       "ENKAI   0.004135  0.001673     0.004135   44.889828    0.028667    0.149364   \n",
       "ENJSA   0.008019  0.001804     0.008019   41.631775    0.055600    0.138524   \n",
       "SISE    0.008385  0.002660     0.008385   28.238994    0.058133    0.093961   \n",
       "ULKER   0.001673  0.002933     0.001673   25.609604    0.011600    0.085212   \n",
       "AEFES   0.001135  0.002998     0.001135   25.056106    0.007867    0.083371   \n",
       "TTKOM   0.003731  0.003567     0.003731   21.060741    0.025867    0.070077   \n",
       "AKBNK  -0.002769  0.003918     0.000000   19.174265    0.000000    0.063800   \n",
       "THYAO   0.000115  0.004382     0.000115   17.143652    0.000800    0.057043   \n",
       "VESTL   0.012788  0.004671     0.012788   16.082334    0.088667    0.053512   \n",
       "TTRAK   0.023596  0.004733     0.023596   15.872590    0.163600    0.052814   \n",
       "GOLTS   0.015673  0.006353     0.015673   11.823320    0.108667    0.039340   \n",
       "IHLGM   0.011673  0.008453     0.011673    8.886725    0.080933    0.029569   \n",
       "DGKLB   0.012962  0.008816     0.012962    8.520632    0.089867    0.028351   \n",
       "ECILC   0.016327  0.009053     0.016327    8.297528    0.113200    0.027609   \n",
       "DEVA    0.024019  0.009104     0.024019    8.250859    0.166533    0.027454   \n",
       "\n",
       "        Portfolio3  \n",
       "Şirket              \n",
       "ENKAI     0.022277  \n",
       "ENJSA     0.024020  \n",
       "SISE      0.035412  \n",
       "ULKER     0.039048  \n",
       "AEFES     0.039910  \n",
       "TTKOM     0.047482  \n",
       "AKBNK     0.052153  \n",
       "THYAO     0.058331  \n",
       "VESTL     0.062180  \n",
       "TTRAK     0.063002  \n",
       "GOLTS     0.084579  \n",
       "IHLGM     0.112527  \n",
       "DGKLB     0.117362  \n",
       "ECILC     0.120518  \n",
       "DEVA      0.121199  "
      ]
     },
     "execution_count": 144,
     "metadata": {},
     "output_type": "execute_result"
    }
   ],
   "source": [
    "data_agg.sort_values(\"var\")"
   ]
  },
  {
   "cell_type": "code",
   "execution_count": 169,
   "metadata": {},
   "outputs": [
    {
     "data": {
      "text/plain": [
       "3.103871171517335"
      ]
     },
     "execution_count": 169,
     "metadata": {},
     "output_type": "execute_result"
    }
   ],
   "source": [
    "data_agg.loc[\"DEVA\",\"var\"] / data_agg.loc[\"ULKER\",\"var\"]"
   ]
  },
  {
   "cell_type": "code",
   "execution_count": 170,
   "metadata": {},
   "outputs": [
    {
     "data": {
      "text/plain": [
       "3.103871171517335"
      ]
     },
     "execution_count": 170,
     "metadata": {},
     "output_type": "execute_result"
    }
   ],
   "source": [
    "data_agg.loc[\"ULKER\",\"Portfolio2\"] / data_agg.loc[\"DEVA\",\"Portfolio2\"]"
   ]
  },
  {
   "cell_type": "markdown",
   "metadata": {},
   "source": [
    "# Calculate Portfolio Parameters\n",
    " - Mean return of the portfolio (w)\n",
    " - Variance of the portfolio\n",
    " - Rate of Return of the portfolio (52w)"
   ]
  },
  {
   "cell_type": "markdown",
   "metadata": {},
   "source": [
    "### Return"
   ]
  },
  {
   "cell_type": "markdown",
   "metadata": {},
   "source": [
    "#### Portfolio 1"
   ]
  },
  {
   "cell_type": "code",
   "execution_count": 145,
   "metadata": {},
   "outputs": [],
   "source": [
    "# multiply weights\n",
    "def mul_weight(row_column):\n",
    "    \n",
    "    return np.multiply(row_column, p1_weights)\n",
    "\n",
    "cov_p1 = cov.apply(mul_weight, axis=1).apply(mul_weight, axis=0)"
   ]
  },
  {
   "cell_type": "code",
   "execution_count": 172,
   "metadata": {},
   "outputs": [
    {
     "data": {
      "text/html": [
       "<div>\n",
       "<style scoped>\n",
       "    .dataframe tbody tr th:only-of-type {\n",
       "        vertical-align: middle;\n",
       "    }\n",
       "\n",
       "    .dataframe tbody tr th {\n",
       "        vertical-align: top;\n",
       "    }\n",
       "\n",
       "    .dataframe thead th {\n",
       "        text-align: right;\n",
       "    }\n",
       "</style>\n",
       "<table border=\"1\" class=\"dataframe\">\n",
       "  <thead>\n",
       "    <tr style=\"text-align: right;\">\n",
       "      <th></th>\n",
       "      <th>Mean return of the portfolio (w)</th>\n",
       "      <th>Variance of the portfolio</th>\n",
       "    </tr>\n",
       "  </thead>\n",
       "  <tbody>\n",
       "    <tr>\n",
       "      <th>Portfolio 1</th>\n",
       "      <td>0.015832</td>\n",
       "      <td>0.002735</td>\n",
       "    </tr>\n",
       "  </tbody>\n",
       "</table>\n",
       "</div>"
      ],
      "text/plain": [
       "             Mean return of the portfolio (w)  Variance of the portfolio\n",
       "Portfolio 1                          0.015832                   0.002735"
      ]
     },
     "execution_count": 172,
     "metadata": {},
     "output_type": "execute_result"
    }
   ],
   "source": [
    "p1_parameters = pd.DataFrame.from_dict({\"Mean return of the portfolio (w)\": [np.matmul(p1_weights, mean_returns)],\n",
    "                                        \"Variance of the portfolio\": [cov_p1.sum().sum()]}).rename({0:\"Portfolio 1\"})\n",
    "p1_parameters"
   ]
  },
  {
   "cell_type": "markdown",
   "metadata": {},
   "source": [
    "#### Portfolio 2"
   ]
  },
  {
   "cell_type": "code",
   "execution_count": 147,
   "metadata": {},
   "outputs": [],
   "source": [
    "# multiply weights\n",
    "def mul_weight2(row_column):\n",
    "    \n",
    "    return np.multiply(row_column, p2_weights)\n",
    "\n",
    "cov_p2 = cov.apply(mul_weight2, axis=1).apply(mul_weight2, axis=0)"
   ]
  },
  {
   "cell_type": "code",
   "execution_count": 173,
   "metadata": {},
   "outputs": [
    {
     "data": {
      "text/html": [
       "<div>\n",
       "<style scoped>\n",
       "    .dataframe tbody tr th:only-of-type {\n",
       "        vertical-align: middle;\n",
       "    }\n",
       "\n",
       "    .dataframe tbody tr th {\n",
       "        vertical-align: top;\n",
       "    }\n",
       "\n",
       "    .dataframe thead th {\n",
       "        text-align: right;\n",
       "    }\n",
       "</style>\n",
       "<table border=\"1\" class=\"dataframe\">\n",
       "  <thead>\n",
       "    <tr style=\"text-align: right;\">\n",
       "      <th></th>\n",
       "      <th>Mean return of the portfolio (w)</th>\n",
       "      <th>Variance of the portfolio</th>\n",
       "    </tr>\n",
       "  </thead>\n",
       "  <tbody>\n",
       "    <tr>\n",
       "      <th>Portfolio 2</th>\n",
       "      <td>0.007215</td>\n",
       "      <td>0.001573</td>\n",
       "    </tr>\n",
       "  </tbody>\n",
       "</table>\n",
       "</div>"
      ],
      "text/plain": [
       "             Mean return of the portfolio (w)  Variance of the portfolio\n",
       "Portfolio 2                          0.007215                   0.001573"
      ]
     },
     "execution_count": 173,
     "metadata": {},
     "output_type": "execute_result"
    }
   ],
   "source": [
    "\n",
    "p2_parameters = pd.DataFrame.from_dict({\"Mean return of the portfolio (w)\": [np.matmul(p2_weights, mean_returns)],\n",
    "                                        \"Variance of the portfolio\": [cov_p2.sum().sum()]}).rename({0:\"Portfolio 2\"})\n",
    "p2_parameters"
   ]
  },
  {
   "cell_type": "code",
   "execution_count": 174,
   "metadata": {},
   "outputs": [
    {
     "data": {
      "text/html": [
       "<div>\n",
       "<style scoped>\n",
       "    .dataframe tbody tr th:only-of-type {\n",
       "        vertical-align: middle;\n",
       "    }\n",
       "\n",
       "    .dataframe tbody tr th {\n",
       "        vertical-align: top;\n",
       "    }\n",
       "\n",
       "    .dataframe thead th {\n",
       "        text-align: right;\n",
       "    }\n",
       "</style>\n",
       "<table border=\"1\" class=\"dataframe\">\n",
       "  <thead>\n",
       "    <tr style=\"text-align: right;\">\n",
       "      <th></th>\n",
       "      <th>Mean return of the portfolio (w)</th>\n",
       "      <th>Variance of the portfolio</th>\n",
       "    </tr>\n",
       "  </thead>\n",
       "  <tbody>\n",
       "    <tr>\n",
       "      <th>Portfolio 1</th>\n",
       "      <td>0.015832</td>\n",
       "      <td>0.002735</td>\n",
       "    </tr>\n",
       "    <tr>\n",
       "      <th>Portfolio 2</th>\n",
       "      <td>0.007215</td>\n",
       "      <td>0.001573</td>\n",
       "    </tr>\n",
       "  </tbody>\n",
       "</table>\n",
       "</div>"
      ],
      "text/plain": [
       "             Mean return of the portfolio (w)  Variance of the portfolio\n",
       "Portfolio 1                          0.015832                   0.002735\n",
       "Portfolio 2                          0.007215                   0.001573"
      ]
     },
     "execution_count": 174,
     "metadata": {},
     "output_type": "execute_result"
    }
   ],
   "source": [
    "portfolio_parameters = p1_parameters.append(p2_parameters)\n",
    "portfolio_parameters"
   ]
  },
  {
   "cell_type": "markdown",
   "metadata": {},
   "source": [
    "### Net Return"
   ]
  },
  {
   "cell_type": "markdown",
   "metadata": {},
   "source": [
    "#### Portfolio 1"
   ]
  },
  {
   "cell_type": "code",
   "execution_count": 150,
   "metadata": {},
   "outputs": [],
   "source": [
    "# multiply weights\n",
    "def mul_weight(row_column):\n",
    "    \n",
    "    return np.multiply(row_column, p1_weights)\n",
    "\n",
    "cov_p1_net = cov_net.apply(mul_weight, axis=1).apply(mul_weight, axis=0)"
   ]
  },
  {
   "cell_type": "code",
   "execution_count": 175,
   "metadata": {},
   "outputs": [],
   "source": [
    "p1_parameters_net = pd.DataFrame.from_dict({\"Mean net return of the portfolio (w)\": [np.matmul(p1_weights, mean_net_returns)],\n",
    "                                        \"Variance of the portfolio\": [cov_p1_net.sum().sum()]}).rename({0:\"Portfolio 1\"})\n"
   ]
  },
  {
   "cell_type": "markdown",
   "metadata": {},
   "source": [
    "#### Portfolio 2"
   ]
  },
  {
   "cell_type": "code",
   "execution_count": 152,
   "metadata": {},
   "outputs": [],
   "source": [
    "# multiply weights\n",
    "def mul_weight2(row_column):\n",
    "    \n",
    "    return np.multiply(row_column, p2_weights)\n",
    "\n",
    "cov_p2_net = cov.apply(mul_weight2, axis=1).apply(mul_weight2, axis=0)"
   ]
  },
  {
   "cell_type": "code",
   "execution_count": 176,
   "metadata": {},
   "outputs": [],
   "source": [
    "\n",
    "p2_parameters_net = pd.DataFrame.from_dict({\"Mean net return of the portfolio (w)\": [np.matmul(p2_weights, mean_net_returns)],\n",
    "                                        \"Variance of the portfolio\": [cov_p2_net.sum().sum()]}).rename({0:\"Portfolio 2\"})\n"
   ]
  },
  {
   "cell_type": "code",
   "execution_count": 177,
   "metadata": {},
   "outputs": [
    {
     "data": {
      "text/html": [
       "<div>\n",
       "<style scoped>\n",
       "    .dataframe tbody tr th:only-of-type {\n",
       "        vertical-align: middle;\n",
       "    }\n",
       "\n",
       "    .dataframe tbody tr th {\n",
       "        vertical-align: top;\n",
       "    }\n",
       "\n",
       "    .dataframe thead th {\n",
       "        text-align: right;\n",
       "    }\n",
       "</style>\n",
       "<table border=\"1\" class=\"dataframe\">\n",
       "  <thead>\n",
       "    <tr style=\"text-align: right;\">\n",
       "      <th></th>\n",
       "      <th>Mean net return of the portfolio (w)</th>\n",
       "      <th>Variance of the portfolio</th>\n",
       "    </tr>\n",
       "  </thead>\n",
       "  <tbody>\n",
       "    <tr>\n",
       "      <th>Portfolio 1</th>\n",
       "      <td>0.013920</td>\n",
       "      <td>0.002738</td>\n",
       "    </tr>\n",
       "    <tr>\n",
       "      <th>Portfolio 2</th>\n",
       "      <td>0.005302</td>\n",
       "      <td>0.001573</td>\n",
       "    </tr>\n",
       "  </tbody>\n",
       "</table>\n",
       "</div>"
      ],
      "text/plain": [
       "             Mean net return of the portfolio (w)  Variance of the portfolio\n",
       "Portfolio 1                              0.013920                   0.002738\n",
       "Portfolio 2                              0.005302                   0.001573"
      ]
     },
     "execution_count": 177,
     "metadata": {},
     "output_type": "execute_result"
    }
   ],
   "source": [
    "portfolio_parameters_net = p1_parameters_net.append(p2_parameters_net)\n",
    "portfolio_parameters_net"
   ]
  },
  {
   "cell_type": "markdown",
   "metadata": {},
   "source": [
    "# 6.1 Probability of Gaining Positive Return\n",
    "Assuming the average weekly return of a portfolio is normally distributed with\n",
    "the parameter values you have collected   \n",
    "calculate the **probability of gaining a\n",
    "positive return**   \n",
    "and the probability of gaining a return above the inflation rate\n",
    "(rate banks loan money). You need weekly rates. "
   ]
  },
  {
   "cell_type": "code",
   "execution_count": 178,
   "metadata": {},
   "outputs": [
    {
     "data": {
      "text/html": [
       "<div>\n",
       "<style scoped>\n",
       "    .dataframe tbody tr th:only-of-type {\n",
       "        vertical-align: middle;\n",
       "    }\n",
       "\n",
       "    .dataframe tbody tr th {\n",
       "        vertical-align: top;\n",
       "    }\n",
       "\n",
       "    .dataframe thead th {\n",
       "        text-align: right;\n",
       "    }\n",
       "</style>\n",
       "<table border=\"1\" class=\"dataframe\">\n",
       "  <thead>\n",
       "    <tr style=\"text-align: right;\">\n",
       "      <th></th>\n",
       "      <th>Mean return of the portfolio (w)</th>\n",
       "      <th>Variance of the portfolio</th>\n",
       "    </tr>\n",
       "  </thead>\n",
       "  <tbody>\n",
       "    <tr>\n",
       "      <th>Portfolio 1</th>\n",
       "      <td>0.015832</td>\n",
       "      <td>0.002735</td>\n",
       "    </tr>\n",
       "    <tr>\n",
       "      <th>Portfolio 2</th>\n",
       "      <td>0.007215</td>\n",
       "      <td>0.001573</td>\n",
       "    </tr>\n",
       "  </tbody>\n",
       "</table>\n",
       "</div>"
      ],
      "text/plain": [
       "             Mean return of the portfolio (w)  Variance of the portfolio\n",
       "Portfolio 1                          0.015832                   0.002735\n",
       "Portfolio 2                          0.007215                   0.001573"
      ]
     },
     "execution_count": 178,
     "metadata": {},
     "output_type": "execute_result"
    }
   ],
   "source": [
    "portfolio_parameters"
   ]
  },
  {
   "cell_type": "code",
   "execution_count": 183,
   "metadata": {},
   "outputs": [],
   "source": [
    "portfolio_parameters[\"z-value\"] = (\n",
    "    (0 - portfolio_parameters[\"Mean return of the portfolio (w)\"]) / \n",
    "        portfolio_parameters[ \"Variance of the portfolio\"] \n",
    "                                    )\n",
    "portfolio_parameters[\"p-value\"] = portfolio_parameters[\"z-value\"].apply(lambda z: stats.norm.sf(abs(z)))\n",
    "portfolio_parameters[\"probability\"] = 1- portfolio_parameters[\"p-value\"] "
   ]
  },
  {
   "cell_type": "code",
   "execution_count": 184,
   "metadata": {},
   "outputs": [
    {
     "data": {
      "text/html": [
       "<div>\n",
       "<style scoped>\n",
       "    .dataframe tbody tr th:only-of-type {\n",
       "        vertical-align: middle;\n",
       "    }\n",
       "\n",
       "    .dataframe tbody tr th {\n",
       "        vertical-align: top;\n",
       "    }\n",
       "\n",
       "    .dataframe thead th {\n",
       "        text-align: right;\n",
       "    }\n",
       "</style>\n",
       "<table border=\"1\" class=\"dataframe\">\n",
       "  <thead>\n",
       "    <tr style=\"text-align: right;\">\n",
       "      <th></th>\n",
       "      <th>Mean return of the portfolio (w)</th>\n",
       "      <th>Variance of the portfolio</th>\n",
       "      <th>z-value</th>\n",
       "      <th>p-value</th>\n",
       "      <th>probability</th>\n",
       "    </tr>\n",
       "  </thead>\n",
       "  <tbody>\n",
       "    <tr>\n",
       "      <th>Portfolio 1</th>\n",
       "      <td>0.015832</td>\n",
       "      <td>0.002735</td>\n",
       "      <td>-5.788626</td>\n",
       "      <td>3.548233e-09</td>\n",
       "      <td>1.000000</td>\n",
       "    </tr>\n",
       "    <tr>\n",
       "      <th>Portfolio 2</th>\n",
       "      <td>0.007215</td>\n",
       "      <td>0.001573</td>\n",
       "      <td>-4.586756</td>\n",
       "      <td>2.250927e-06</td>\n",
       "      <td>0.999998</td>\n",
       "    </tr>\n",
       "  </tbody>\n",
       "</table>\n",
       "</div>"
      ],
      "text/plain": [
       "             Mean return of the portfolio (w)  Variance of the portfolio  \\\n",
       "Portfolio 1                          0.015832                   0.002735   \n",
       "Portfolio 2                          0.007215                   0.001573   \n",
       "\n",
       "              z-value       p-value  probability  \n",
       "Portfolio 1 -5.788626  3.548233e-09     1.000000  \n",
       "Portfolio 2 -4.586756  2.250927e-06     0.999998  "
      ]
     },
     "execution_count": 184,
     "metadata": {},
     "output_type": "execute_result"
    }
   ],
   "source": [
    "portfolio_parameters"
   ]
  },
  {
   "cell_type": "code",
   "execution_count": null,
   "metadata": {},
   "outputs": [],
   "source": []
  },
  {
   "cell_type": "markdown",
   "metadata": {},
   "source": [
    "# 6.1 Probability of Gaining Return Above Inflation\n",
    "Assuming the average weekly return of a portfolio is normally distributed with\n",
    "the parameter values you have collected   \n",
    "calculate the probability of gaining a\n",
    "positive return   \n",
    "and the **probability of gaining a return above the inflation rate**\n",
    "(rate banks loan money). You need weekly rates. "
   ]
  },
  {
   "cell_type": "code",
   "execution_count": 158,
   "metadata": {},
   "outputs": [
    {
     "data": {
      "text/html": [
       "<div>\n",
       "<style scoped>\n",
       "    .dataframe tbody tr th:only-of-type {\n",
       "        vertical-align: middle;\n",
       "    }\n",
       "\n",
       "    .dataframe tbody tr th {\n",
       "        vertical-align: top;\n",
       "    }\n",
       "\n",
       "    .dataframe thead th {\n",
       "        text-align: right;\n",
       "    }\n",
       "</style>\n",
       "<table border=\"1\" class=\"dataframe\">\n",
       "  <thead>\n",
       "    <tr style=\"text-align: right;\">\n",
       "      <th></th>\n",
       "      <th>Rate of Net Return of the portfolio (52w)</th>\n",
       "      <th>Mean net return of the portfolio (w)</th>\n",
       "      <th>Variance of the portfolio</th>\n",
       "    </tr>\n",
       "  </thead>\n",
       "  <tbody>\n",
       "    <tr>\n",
       "      <th>Portfolio 1</th>\n",
       "      <td>0.842461</td>\n",
       "      <td>0.013920</td>\n",
       "      <td>0.002738</td>\n",
       "    </tr>\n",
       "    <tr>\n",
       "      <th>Portfolio 2</th>\n",
       "      <td>0.268249</td>\n",
       "      <td>0.005302</td>\n",
       "      <td>0.001573</td>\n",
       "    </tr>\n",
       "  </tbody>\n",
       "</table>\n",
       "</div>"
      ],
      "text/plain": [
       "             Rate of Net Return of the portfolio (52w)  \\\n",
       "Portfolio 1                                   0.842461   \n",
       "Portfolio 2                                   0.268249   \n",
       "\n",
       "             Mean net return of the portfolio (w)  Variance of the portfolio  \n",
       "Portfolio 1                              0.013920                   0.002738  \n",
       "Portfolio 2                              0.005302                   0.001573  "
      ]
     },
     "execution_count": 158,
     "metadata": {},
     "output_type": "execute_result"
    }
   ],
   "source": [
    "portfolio_parameters_net"
   ]
  },
  {
   "cell_type": "code",
   "execution_count": 185,
   "metadata": {},
   "outputs": [],
   "source": [
    "portfolio_parameters_net[\"z-value\"] = (\n",
    "    (0 - portfolio_parameters_net[\"Mean net return of the portfolio (w)\"]) / \n",
    "        portfolio_parameters_net[ \"Variance of the portfolio\"] \n",
    "                                    )\n",
    "portfolio_parameters_net[\"p-value\"] = portfolio_parameters_net[\"z-value\"].apply(lambda z: stats.norm.sf(abs(z)))\n",
    "portfolio_parameters_net[\"probability\"] = 1- portfolio_parameters_net[\"p-value\"] "
   ]
  },
  {
   "cell_type": "code",
   "execution_count": 186,
   "metadata": {},
   "outputs": [
    {
     "data": {
      "text/html": [
       "<div>\n",
       "<style scoped>\n",
       "    .dataframe tbody tr th:only-of-type {\n",
       "        vertical-align: middle;\n",
       "    }\n",
       "\n",
       "    .dataframe tbody tr th {\n",
       "        vertical-align: top;\n",
       "    }\n",
       "\n",
       "    .dataframe thead th {\n",
       "        text-align: right;\n",
       "    }\n",
       "</style>\n",
       "<table border=\"1\" class=\"dataframe\">\n",
       "  <thead>\n",
       "    <tr style=\"text-align: right;\">\n",
       "      <th></th>\n",
       "      <th>Mean net return of the portfolio (w)</th>\n",
       "      <th>Variance of the portfolio</th>\n",
       "      <th>z-value</th>\n",
       "      <th>p-value</th>\n",
       "      <th>probability</th>\n",
       "    </tr>\n",
       "  </thead>\n",
       "  <tbody>\n",
       "    <tr>\n",
       "      <th>Portfolio 1</th>\n",
       "      <td>0.013920</td>\n",
       "      <td>0.002738</td>\n",
       "      <td>-5.083981</td>\n",
       "      <td>1.848023e-07</td>\n",
       "      <td>1.000000</td>\n",
       "    </tr>\n",
       "    <tr>\n",
       "      <th>Portfolio 2</th>\n",
       "      <td>0.005302</td>\n",
       "      <td>0.001573</td>\n",
       "      <td>-3.371022</td>\n",
       "      <td>3.744490e-04</td>\n",
       "      <td>0.999626</td>\n",
       "    </tr>\n",
       "  </tbody>\n",
       "</table>\n",
       "</div>"
      ],
      "text/plain": [
       "             Mean net return of the portfolio (w)  Variance of the portfolio  \\\n",
       "Portfolio 1                              0.013920                   0.002738   \n",
       "Portfolio 2                              0.005302                   0.001573   \n",
       "\n",
       "              z-value       p-value  probability  \n",
       "Portfolio 1 -5.083981  1.848023e-07     1.000000  \n",
       "Portfolio 2 -3.371022  3.744490e-04     0.999626  "
      ]
     },
     "execution_count": 186,
     "metadata": {},
     "output_type": "execute_result"
    }
   ],
   "source": [
    "portfolio_parameters_net"
   ]
  },
  {
   "cell_type": "code",
   "execution_count": null,
   "metadata": {},
   "outputs": [],
   "source": []
  }
 ],
 "metadata": {
  "kernelspec": {
   "display_name": "Python 3",
   "language": "python",
   "name": "python3"
  },
  "language_info": {
   "codemirror_mode": {
    "name": "ipython",
    "version": 3
   },
   "file_extension": ".py",
   "mimetype": "text/x-python",
   "name": "python",
   "nbconvert_exporter": "python",
   "pygments_lexer": "ipython3",
   "version": "3.8.3"
  }
 },
 "nbformat": 4,
 "nbformat_minor": 2
}
